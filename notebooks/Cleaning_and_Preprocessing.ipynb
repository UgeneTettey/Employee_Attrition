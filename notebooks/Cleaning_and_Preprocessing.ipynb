{
 "cells": [
  {
   "cell_type": "code",
   "execution_count": 1,
   "id": "b9661d92",
   "metadata": {},
   "outputs": [],
   "source": [
    "import pandas as pd\n",
    "import numpy as np\n",
    "import matplotlib.pyplot as plt\n",
    "import seaborn as sns\n",
    "\n",
    "\n",
    "import warnings\n",
    "warnings.filterwarnings(\"ignore\")"
   ]
  },
  {
   "cell_type": "code",
   "execution_count": 2,
   "id": "0e2cb326",
   "metadata": {},
   "outputs": [
    {
     "data": {
      "application/vnd.microsoft.datawrangler.viewer.v0+json": {
       "columns": [
        {
         "name": "index",
         "rawType": "int64",
         "type": "integer"
        },
        {
         "name": "S/N",
         "rawType": "int64",
         "type": "integer"
        },
        {
         "name": "Job Title",
         "rawType": "object",
         "type": "string"
        },
        {
         "name": "Department",
         "rawType": "object",
         "type": "string"
        },
        {
         "name": "Age",
         "rawType": "int64",
         "type": "integer"
        },
        {
         "name": "Gender",
         "rawType": "object",
         "type": "string"
        },
        {
         "name": "Marital Status",
         "rawType": "object",
         "type": "string"
        },
        {
         "name": "Years of Service",
         "rawType": "int64",
         "type": "integer"
        },
        {
         "name": "Salary",
         "rawType": "float64",
         "type": "float"
        }
       ],
       "ref": "f03df105-f3ce-414c-b4e9-51927ba9e5f2",
       "rows": [
        [
         "0",
         "1",
         "HR Specialist",
         "Human Resources",
         "25",
         "Male",
         "Married",
         "2",
         "537.25"
        ],
        [
         "1",
         "2",
         "Project Manager",
         "Sales & Marketing",
         "53",
         "Male",
         "Single",
         "8",
         "154.13"
        ],
        [
         "2",
         "3",
         "Billing Specialist",
         "IT & Software",
         "44",
         "Female",
         "Married",
         "8",
         "368.54"
        ],
        [
         "3",
         "4",
         "Marketing Analyst",
         "Data Analytics",
         "37",
         "Female",
         "Married",
         "7",
         "269.92"
        ],
        [
         "4",
         "5",
         "Product Manager",
         "IT & Software",
         "30",
         "Male",
         "Single",
         "4",
         "131.17"
        ]
       ],
       "shape": {
        "columns": 8,
        "rows": 5
       }
      },
      "text/html": [
       "<div>\n",
       "<style scoped>\n",
       "    .dataframe tbody tr th:only-of-type {\n",
       "        vertical-align: middle;\n",
       "    }\n",
       "\n",
       "    .dataframe tbody tr th {\n",
       "        vertical-align: top;\n",
       "    }\n",
       "\n",
       "    .dataframe thead th {\n",
       "        text-align: right;\n",
       "    }\n",
       "</style>\n",
       "<table border=\"1\" class=\"dataframe\">\n",
       "  <thead>\n",
       "    <tr style=\"text-align: right;\">\n",
       "      <th></th>\n",
       "      <th>S/N</th>\n",
       "      <th>Job Title</th>\n",
       "      <th>Department</th>\n",
       "      <th>Age</th>\n",
       "      <th>Gender</th>\n",
       "      <th>Marital Status</th>\n",
       "      <th>Years of Service</th>\n",
       "      <th>Salary</th>\n",
       "    </tr>\n",
       "  </thead>\n",
       "  <tbody>\n",
       "    <tr>\n",
       "      <th>0</th>\n",
       "      <td>1</td>\n",
       "      <td>HR Specialist</td>\n",
       "      <td>Human Resources</td>\n",
       "      <td>25</td>\n",
       "      <td>Male</td>\n",
       "      <td>Married</td>\n",
       "      <td>2</td>\n",
       "      <td>537.25</td>\n",
       "    </tr>\n",
       "    <tr>\n",
       "      <th>1</th>\n",
       "      <td>2</td>\n",
       "      <td>Project Manager</td>\n",
       "      <td>Sales &amp; Marketing</td>\n",
       "      <td>53</td>\n",
       "      <td>Male</td>\n",
       "      <td>Single</td>\n",
       "      <td>8</td>\n",
       "      <td>154.13</td>\n",
       "    </tr>\n",
       "    <tr>\n",
       "      <th>2</th>\n",
       "      <td>3</td>\n",
       "      <td>Billing Specialist</td>\n",
       "      <td>IT &amp; Software</td>\n",
       "      <td>44</td>\n",
       "      <td>Female</td>\n",
       "      <td>Married</td>\n",
       "      <td>8</td>\n",
       "      <td>368.54</td>\n",
       "    </tr>\n",
       "    <tr>\n",
       "      <th>3</th>\n",
       "      <td>4</td>\n",
       "      <td>Marketing Analyst</td>\n",
       "      <td>Data Analytics</td>\n",
       "      <td>37</td>\n",
       "      <td>Female</td>\n",
       "      <td>Married</td>\n",
       "      <td>7</td>\n",
       "      <td>269.92</td>\n",
       "    </tr>\n",
       "    <tr>\n",
       "      <th>4</th>\n",
       "      <td>5</td>\n",
       "      <td>Product Manager</td>\n",
       "      <td>IT &amp; Software</td>\n",
       "      <td>30</td>\n",
       "      <td>Male</td>\n",
       "      <td>Single</td>\n",
       "      <td>4</td>\n",
       "      <td>131.17</td>\n",
       "    </tr>\n",
       "  </tbody>\n",
       "</table>\n",
       "</div>"
      ],
      "text/plain": [
       "   S/N           Job Title         Department  Age  Gender Marital Status  \\\n",
       "0    1       HR Specialist    Human Resources   25    Male        Married   \n",
       "1    2     Project Manager  Sales & Marketing   53    Male         Single   \n",
       "2    3  Billing Specialist      IT & Software   44  Female        Married   \n",
       "3    4   Marketing Analyst     Data Analytics   37  Female        Married   \n",
       "4    5     Product Manager      IT & Software   30    Male         Single   \n",
       "\n",
       "   Years of Service  Salary  \n",
       "0                 2  537.25  \n",
       "1                 8  154.13  \n",
       "2                 8  368.54  \n",
       "3                 7  269.92  \n",
       "4                 4  131.17  "
      ]
     },
     "execution_count": 2,
     "metadata": {},
     "output_type": "execute_result"
    }
   ],
   "source": [
    "# load data\n",
    "df = pd.read_csv('Existing Staff.csv')\n",
    "df.head()"
   ]
  },
  {
   "cell_type": "code",
   "execution_count": 3,
   "id": "badaf7cb",
   "metadata": {},
   "outputs": [
    {
     "name": "stdout",
     "output_type": "stream",
     "text": [
      "<class 'pandas.core.frame.DataFrame'>\n",
      "RangeIndex: 3500 entries, 0 to 3499\n",
      "Data columns (total 8 columns):\n",
      " #   Column            Non-Null Count  Dtype  \n",
      "---  ------            --------------  -----  \n",
      " 0   S/N               3500 non-null   int64  \n",
      " 1   Job Title         3500 non-null   object \n",
      " 2   Department        3500 non-null   object \n",
      " 3   Age               3500 non-null   int64  \n",
      " 4   Gender            3500 non-null   object \n",
      " 5   Marital Status    3500 non-null   object \n",
      " 6   Years of Service  3500 non-null   int64  \n",
      " 7   Salary            3500 non-null   float64\n",
      "dtypes: float64(1), int64(3), object(4)\n",
      "memory usage: 218.9+ KB\n"
     ]
    }
   ],
   "source": [
    "df.info()"
   ]
  },
  {
   "cell_type": "code",
   "execution_count": 5,
   "id": "e53abbe1",
   "metadata": {},
   "outputs": [
    {
     "name": "stdout",
     "output_type": "stream",
     "text": [
      "Number of duplicate rows: 0\n"
     ]
    }
   ],
   "source": [
    "# check duplicates\n",
    "duplicates = df.duplicated()\n",
    "print(f\"Number of duplicate rows: {duplicates.sum()}\")"
   ]
  },
  {
   "cell_type": "code",
   "execution_count": 9,
   "id": "9684d520",
   "metadata": {},
   "outputs": [
    {
     "name": "stdout",
     "output_type": "stream",
     "text": [
      "Starting data cleaning process...\n",
      "Removed 0 duplicate rows\n",
      "Cleaned text in column: Job Title\n",
      "Cleaned text in column: Department\n",
      "Cleaned text in column: Gender\n",
      "Cleaned text in column: Marital Status\n",
      "Downcasted S/N from int64 to int16\n",
      "Converted Department to category dtype\n",
      "Downcasted Age from int64 to int8\n",
      "Converted Gender to category dtype\n",
      "Converted Marital Status to category dtype\n",
      "Downcasted Years of Service from int64 to int8\n",
      "Downcasted Salary from float64 to float32\n",
      "Capped 46 outliers in Salary to [-7.38, 706.16]\n",
      "\n",
      "=== DATA CLEANING SUMMARY ===\n",
      "Initial dimensions: (3500, 8)\n",
      "Final dimensions: (3500, 8)\n",
      "Missing values handled: 0 → 0\n",
      "\n",
      "Outlier handling:\n",
      "- Salary: 46 capped (bounds: [-7.38, 706.16])\n",
      "\n",
      "Data type conversions:\n",
      "- S/N: int16\n",
      "- Department: category\n",
      "- Age: int8\n",
      "- Gender: category\n",
      "- Marital Status: category\n",
      "- Years of Service: int8\n",
      "- Salary: float32\n",
      "\n",
      "Data cleaning completed successfully!\n"
     ]
    }
   ],
   "source": [
    "from cleaner import DataCleaner  #using custom DataCleaner class\n",
    "\n",
    "\n",
    "# instantiate the cleaner\n",
    "cleaner = DataCleaner(df, verbose=True)\n",
    "# clean the data\n",
    "df_clean = cleaner.clean()\n",
    "# generate a report\n",
    "report = cleaner.report()"
   ]
  },
  {
   "cell_type": "code",
   "execution_count": 7,
   "id": "7b529195",
   "metadata": {},
   "outputs": [
    {
     "data": {
      "application/vnd.microsoft.datawrangler.viewer.v0+json": {
       "columns": [
        {
         "name": "index",
         "rawType": "int64",
         "type": "integer"
        },
        {
         "name": "S/N",
         "rawType": "int16",
         "type": "integer"
        },
        {
         "name": "Job Title",
         "rawType": "object",
         "type": "string"
        },
        {
         "name": "Department",
         "rawType": "category",
         "type": "unknown"
        },
        {
         "name": "Age",
         "rawType": "int8",
         "type": "integer"
        },
        {
         "name": "Gender",
         "rawType": "category",
         "type": "unknown"
        },
        {
         "name": "Marital Status",
         "rawType": "category",
         "type": "unknown"
        },
        {
         "name": "Years of Service",
         "rawType": "int8",
         "type": "integer"
        },
        {
         "name": "Salary",
         "rawType": "float64",
         "type": "float"
        }
       ],
       "ref": "00c9c41e-e0c5-4338-b87d-7720f5e65722",
       "rows": [
        [
         "0",
         "1",
         "hr specialist",
         "human resources",
         "25",
         "male",
         "married",
         "2",
         "537.25"
        ],
        [
         "1",
         "2",
         "project manager",
         "sales & marketing",
         "53",
         "male",
         "single",
         "8",
         "154.1300048828125"
        ],
        [
         "2",
         "3",
         "billing specialist",
         "it & software",
         "44",
         "female",
         "married",
         "8",
         "368.5400085449219"
        ],
        [
         "3",
         "4",
         "marketing analyst",
         "data analytics",
         "37",
         "female",
         "married",
         "7",
         "269.9200134277344"
        ],
        [
         "4",
         "5",
         "product manager",
         "it & software",
         "30",
         "male",
         "single",
         "4",
         "131.1699981689453"
        ]
       ],
       "shape": {
        "columns": 8,
        "rows": 5
       }
      },
      "text/html": [
       "<div>\n",
       "<style scoped>\n",
       "    .dataframe tbody tr th:only-of-type {\n",
       "        vertical-align: middle;\n",
       "    }\n",
       "\n",
       "    .dataframe tbody tr th {\n",
       "        vertical-align: top;\n",
       "    }\n",
       "\n",
       "    .dataframe thead th {\n",
       "        text-align: right;\n",
       "    }\n",
       "</style>\n",
       "<table border=\"1\" class=\"dataframe\">\n",
       "  <thead>\n",
       "    <tr style=\"text-align: right;\">\n",
       "      <th></th>\n",
       "      <th>S/N</th>\n",
       "      <th>Job Title</th>\n",
       "      <th>Department</th>\n",
       "      <th>Age</th>\n",
       "      <th>Gender</th>\n",
       "      <th>Marital Status</th>\n",
       "      <th>Years of Service</th>\n",
       "      <th>Salary</th>\n",
       "    </tr>\n",
       "  </thead>\n",
       "  <tbody>\n",
       "    <tr>\n",
       "      <th>0</th>\n",
       "      <td>1</td>\n",
       "      <td>hr specialist</td>\n",
       "      <td>human resources</td>\n",
       "      <td>25</td>\n",
       "      <td>male</td>\n",
       "      <td>married</td>\n",
       "      <td>2</td>\n",
       "      <td>537.250000</td>\n",
       "    </tr>\n",
       "    <tr>\n",
       "      <th>1</th>\n",
       "      <td>2</td>\n",
       "      <td>project manager</td>\n",
       "      <td>sales &amp; marketing</td>\n",
       "      <td>53</td>\n",
       "      <td>male</td>\n",
       "      <td>single</td>\n",
       "      <td>8</td>\n",
       "      <td>154.130005</td>\n",
       "    </tr>\n",
       "    <tr>\n",
       "      <th>2</th>\n",
       "      <td>3</td>\n",
       "      <td>billing specialist</td>\n",
       "      <td>it &amp; software</td>\n",
       "      <td>44</td>\n",
       "      <td>female</td>\n",
       "      <td>married</td>\n",
       "      <td>8</td>\n",
       "      <td>368.540009</td>\n",
       "    </tr>\n",
       "    <tr>\n",
       "      <th>3</th>\n",
       "      <td>4</td>\n",
       "      <td>marketing analyst</td>\n",
       "      <td>data analytics</td>\n",
       "      <td>37</td>\n",
       "      <td>female</td>\n",
       "      <td>married</td>\n",
       "      <td>7</td>\n",
       "      <td>269.920013</td>\n",
       "    </tr>\n",
       "    <tr>\n",
       "      <th>4</th>\n",
       "      <td>5</td>\n",
       "      <td>product manager</td>\n",
       "      <td>it &amp; software</td>\n",
       "      <td>30</td>\n",
       "      <td>male</td>\n",
       "      <td>single</td>\n",
       "      <td>4</td>\n",
       "      <td>131.169998</td>\n",
       "    </tr>\n",
       "  </tbody>\n",
       "</table>\n",
       "</div>"
      ],
      "text/plain": [
       "   S/N           Job Title         Department  Age  Gender Marital Status  \\\n",
       "0    1       hr specialist    human resources   25    male        married   \n",
       "1    2     project manager  sales & marketing   53    male         single   \n",
       "2    3  billing specialist      it & software   44  female        married   \n",
       "3    4   marketing analyst     data analytics   37  female        married   \n",
       "4    5     product manager      it & software   30    male         single   \n",
       "\n",
       "   Years of Service      Salary  \n",
       "0                 2  537.250000  \n",
       "1                 8  154.130005  \n",
       "2                 8  368.540009  \n",
       "3                 7  269.920013  \n",
       "4                 4  131.169998  "
      ]
     },
     "execution_count": 7,
     "metadata": {},
     "output_type": "execute_result"
    }
   ],
   "source": [
    "df_clean.head()"
   ]
  },
  {
   "cell_type": "code",
   "execution_count": 10,
   "id": "9e22eef2",
   "metadata": {},
   "outputs": [
    {
     "name": "stdout",
     "output_type": "stream",
     "text": [
      "Help on class DataCleaner in module cleaner:\n",
      "\n",
      "class DataCleaner(builtins.object)\n",
      " |  DataCleaner(\n",
      " |      df: pandas.core.frame.DataFrame,\n",
      " |      drop_duplicates: bool = True,\n",
      " |      handle_missing: str = 'auto',\n",
      " |      text_cleanup: bool | list = True,\n",
      " |      numeric_outliers: bool = True,\n",
      " |      outlier_method: str = 'cap',\n",
      " |      iqr_multiplier: float = 1.5,\n",
      " |      category_threshold: int = 10,\n",
      " |      verbose: bool = True,\n",
      " |      missing_categorical_value: str = 'MISSING'\n",
      " |  )\n",
      " |\n",
      " |  Comprehensive data cleaning pipeline for pandas DataFrames using OOP approach\n",
      " |\n",
      " |  Features:\n",
      " |  - Duplicate removal\n",
      " |  - Text standardization\n",
      " |  - Missing value handling\n",
      " |  - Data type optimization\n",
      " |  - Outlier management\n",
      " |  - Detailed cleaning reports\n",
      " |\n",
      " |  Usage:\n",
      " |  >>> cleaner = DataCleaner(df)\n",
      " |  >>> cleaned_df = cleaner.clean()\n",
      " |  >>> report = cleaner.report()\n",
      " |\n",
      " |  Methods defined here:\n",
      " |\n",
      " |  __init__(\n",
      " |      self,\n",
      " |      df: pandas.core.frame.DataFrame,\n",
      " |      drop_duplicates: bool = True,\n",
      " |      handle_missing: str = 'auto',\n",
      " |      text_cleanup: bool | list = True,\n",
      " |      numeric_outliers: bool = True,\n",
      " |      outlier_method: str = 'cap',\n",
      " |      iqr_multiplier: float = 1.5,\n",
      " |      category_threshold: int = 10,\n",
      " |      verbose: bool = True,\n",
      " |      missing_categorical_value: str = 'MISSING'\n",
      " |  )\n",
      " |      Initialize data cleaner with configuration options\n",
      " |\n",
      " |      Args:\n",
      " |          df: Input DataFrame to clean\n",
      " |          drop_duplicates: Remove duplicate rows (default: True)\n",
      " |          handle_missing: Strategy for missing values:\n",
      " |              'auto' (median/mode), 'drop', 'fill' (mean/string), 'skip'\n",
      " |          text_cleanup: Text cleaning: True (defaults), False, or list of operations:\n",
      " |              ['strip', 'lowercase', 'remove_special', 'normalize_unicode']\n",
      " |          numeric_outliers: Handle numeric outliers (default: True)\n",
      " |          outlier_method: 'cap' (winsorize) or 'remove' (delete rows)\n",
      " |          iqr_multiplier: IQR multiplier for outlier detection\n",
      " |          category_threshold: Unique value threshold for categorical conversion\n",
      " |          verbose: Print processing details\n",
      " |          missing_categorical_value: Fill value for categorical NaNs\n",
      " |\n",
      " |  clean(self) -> pandas.core.frame.DataFrame\n",
      " |      Execute the full cleaning pipeline\n",
      " |\n",
      " |  get_config(self) -> dict\n",
      " |      Get current configuration settings\n",
      " |\n",
      " |  log(self, message: str)\n",
      " |      Conditional logging based on verbose setting\n",
      " |\n",
      " |  report(self) -> dict\n",
      " |      Get detailed cleaning report\n",
      " |\n",
      " |  reset(self)\n",
      " |      Reset to original data while keeping configuration\n",
      " |\n",
      " |  ----------------------------------------------------------------------\n",
      " |  Data descriptors defined here:\n",
      " |\n",
      " |  __dict__\n",
      " |      dictionary for instance variables\n",
      " |\n",
      " |  __weakref__\n",
      " |      list of weak references to the object\n",
      "\n"
     ]
    }
   ],
   "source": [
    "help(DataCleaner)"
   ]
  },
  {
   "cell_type": "code",
   "execution_count": 11,
   "id": "5ce8c3b7",
   "metadata": {},
   "outputs": [
    {
     "data": {
      "text/plain": [
       "{'initial_shape': (3500, 8),\n",
       " 'duplicates_removed': 0,\n",
       " 'missing_values_initial': np.int64(0),\n",
       " 'missing_values_final': np.int64(0),\n",
       " 'type_conversions': {'S/N': 'int16',\n",
       "  'Department': 'category',\n",
       "  'Age': 'int8',\n",
       "  'Gender': 'category',\n",
       "  'Marital Status': 'category',\n",
       "  'Years of Service': 'int8',\n",
       "  'Salary': 'float32'},\n",
       " 'outliers': {'Salary': {'method': 'capped',\n",
       "   'count': 46,\n",
       "   'lower_bound': np.float64(-7.3799896240234375),\n",
       "   'upper_bound': np.float64(706.1599884033203)}},\n",
       " 'rows_removed_outliers': 0,\n",
       " 'final_shape': (3500, 8)}"
      ]
     },
     "execution_count": 11,
     "metadata": {},
     "output_type": "execute_result"
    }
   ],
   "source": [
    "report"
   ]
  },
  {
   "cell_type": "code",
   "execution_count": 8,
   "id": "5bef96cf",
   "metadata": {},
   "outputs": [
    {
     "name": "stdout",
     "output_type": "stream",
     "text": [
      "<class 'pandas.core.frame.DataFrame'>\n",
      "RangeIndex: 3500 entries, 0 to 3499\n",
      "Data columns (total 8 columns):\n",
      " #   Column            Non-Null Count  Dtype   \n",
      "---  ------            --------------  -----   \n",
      " 0   S/N               3500 non-null   int16   \n",
      " 1   Job Title         3500 non-null   object  \n",
      " 2   Department        3500 non-null   category\n",
      " 3   Age               3500 non-null   int8    \n",
      " 4   Gender            3500 non-null   category\n",
      " 5   Marital Status    3500 non-null   category\n",
      " 6   Years of Service  3500 non-null   int8    \n",
      " 7   Salary            3500 non-null   float64 \n",
      "dtypes: category(3), float64(1), int16(1), int8(2), object(1)\n",
      "memory usage: 79.3+ KB\n"
     ]
    }
   ],
   "source": [
    "df_clean.info()"
   ]
  },
  {
   "cell_type": "code",
   "execution_count": 12,
   "id": "8ae96a44",
   "metadata": {},
   "outputs": [
    {
     "data": {
      "text/plain": [
       "9"
      ]
     },
     "execution_count": 12,
     "metadata": {},
     "output_type": "execute_result"
    }
   ],
   "source": [
    "df_clean['Department'].nunique()"
   ]
  },
  {
   "cell_type": "code",
   "execution_count": null,
   "id": "bfc300b8",
   "metadata": {},
   "outputs": [],
   "source": []
  }
 ],
 "metadata": {
  "kernelspec": {
   "display_name": "base",
   "language": "python",
   "name": "python3"
  },
  "language_info": {
   "codemirror_mode": {
    "name": "ipython",
    "version": 3
   },
   "file_extension": ".py",
   "mimetype": "text/x-python",
   "name": "python",
   "nbconvert_exporter": "python",
   "pygments_lexer": "ipython3",
   "version": "3.13.5"
  }
 },
 "nbformat": 4,
 "nbformat_minor": 5
}
